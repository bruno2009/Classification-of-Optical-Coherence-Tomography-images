{
 "cells": [
  {
   "cell_type": "code",
   "execution_count": 11,
   "metadata": {},
   "outputs": [],
   "source": [
    "import numpy as np\n",
    "import pandas as pd\n",
    "\n",
    "from sklearn.metrics import make_scorer, cohen_kappa_score, classification_report\n",
    "from sklearn.model_selection import  GridSearchCV, StratifiedKFold, train_test_split\n",
    "from sklearn.pipeline import Pipeline\n",
    "from sklearn.preprocessing import StandardScaler, RobustScaler, MinMaxScaler\n",
    "from sklearn.neighbors import KNeighborsClassifier\n",
    "from sklearn.feature_selection import SequentialFeatureSelector\n"
   ]
  },
  {
   "cell_type": "code",
   "execution_count": 2,
   "metadata": {},
   "outputs": [],
   "source": [
    "df_dme = pd.read_csv('Texture_DME.csv')\n",
    "df_normal = pd.read_csv('Texture_NORMAL.csv')\n",
    "\n",
    "n_dme = df_dme.shape[0]\n",
    "n_normal = df_normal.shape[0]\n",
    "\n",
    "label_one = pd.Series([1] * n_dme )\n",
    "label_one.name = 'Label'\n",
    "label_zero = pd.Series([0] * n_normal )\n",
    "label_zero.name = 'Label'\n",
    "\n",
    "df_dme.drop(df_dme.columns[0], axis = 1, inplace = True)\n",
    "df_normal.drop(df_normal.columns[0], axis = 1, inplace = True)\n",
    "\n",
    "pandas_normal = pd.concat([label_zero, df_normal], axis=1)\n",
    "pandas_dme = pd.concat([label_one, df_dme], axis=1)\n",
    "\n",
    "Data = pd.concat([pandas_normal, pandas_dme], axis=0, ignore_index=True)\n",
    "\n",
    "X = Data.drop('Label', axis=1)\n",
    "y = Data['Label']\n"
   ]
  },
  {
   "cell_type": "code",
   "execution_count": 3,
   "metadata": {},
   "outputs": [],
   "source": [
    "# columns_n = np.arange(0, 144, 1)\n",
    "# np.random.seed(123)\n",
    "# selected_numbers = np.random.choice(columns_n, size=10, replace=False)\n",
    "# print(selected_numbers)\n",
    "# X_train, X_test, y_train, y_test = train_test_split(X.iloc[:, selected_numbers ], y, test_size=0.1, random_state=100, stratify=y)"
   ]
  },
  {
   "cell_type": "code",
   "execution_count": 4,
   "metadata": {},
   "outputs": [],
   "source": [
    "X_train, X_test, y_train, y_test = train_test_split(X, y, test_size=0.1, random_state=100, stratify=y)\n",
    "\n",
    "k_fold = 4\n",
    "kfold = StratifiedKFold(n_splits = k_fold, random_state=100, shuffle=True) # StratifiedKFold is an extension of KFold where it maintains the distribution of the target variable within each fold.\n"
   ]
  },
  {
   "cell_type": "code",
   "execution_count": 5,
   "metadata": {},
   "outputs": [
    {
     "name": "stdout",
     "output_type": "stream",
     "text": [
      "Fitting 4 folds for each of 9 candidates, totalling 36 fits\n"
     ]
    },
    {
     "data": {
      "text/html": [
       "<style>#sk-container-id-1 {color: black;background-color: white;}#sk-container-id-1 pre{padding: 0;}#sk-container-id-1 div.sk-toggleable {background-color: white;}#sk-container-id-1 label.sk-toggleable__label {cursor: pointer;display: block;width: 100%;margin-bottom: 0;padding: 0.3em;box-sizing: border-box;text-align: center;}#sk-container-id-1 label.sk-toggleable__label-arrow:before {content: \"▸\";float: left;margin-right: 0.25em;color: #696969;}#sk-container-id-1 label.sk-toggleable__label-arrow:hover:before {color: black;}#sk-container-id-1 div.sk-estimator:hover label.sk-toggleable__label-arrow:before {color: black;}#sk-container-id-1 div.sk-toggleable__content {max-height: 0;max-width: 0;overflow: hidden;text-align: left;background-color: #f0f8ff;}#sk-container-id-1 div.sk-toggleable__content pre {margin: 0.2em;color: black;border-radius: 0.25em;background-color: #f0f8ff;}#sk-container-id-1 input.sk-toggleable__control:checked~div.sk-toggleable__content {max-height: 200px;max-width: 100%;overflow: auto;}#sk-container-id-1 input.sk-toggleable__control:checked~label.sk-toggleable__label-arrow:before {content: \"▾\";}#sk-container-id-1 div.sk-estimator input.sk-toggleable__control:checked~label.sk-toggleable__label {background-color: #d4ebff;}#sk-container-id-1 div.sk-label input.sk-toggleable__control:checked~label.sk-toggleable__label {background-color: #d4ebff;}#sk-container-id-1 input.sk-hidden--visually {border: 0;clip: rect(1px 1px 1px 1px);clip: rect(1px, 1px, 1px, 1px);height: 1px;margin: -1px;overflow: hidden;padding: 0;position: absolute;width: 1px;}#sk-container-id-1 div.sk-estimator {font-family: monospace;background-color: #f0f8ff;border: 1px dotted black;border-radius: 0.25em;box-sizing: border-box;margin-bottom: 0.5em;}#sk-container-id-1 div.sk-estimator:hover {background-color: #d4ebff;}#sk-container-id-1 div.sk-parallel-item::after {content: \"\";width: 100%;border-bottom: 1px solid gray;flex-grow: 1;}#sk-container-id-1 div.sk-label:hover label.sk-toggleable__label {background-color: #d4ebff;}#sk-container-id-1 div.sk-serial::before {content: \"\";position: absolute;border-left: 1px solid gray;box-sizing: border-box;top: 0;bottom: 0;left: 50%;z-index: 0;}#sk-container-id-1 div.sk-serial {display: flex;flex-direction: column;align-items: center;background-color: white;padding-right: 0.2em;padding-left: 0.2em;position: relative;}#sk-container-id-1 div.sk-item {position: relative;z-index: 1;}#sk-container-id-1 div.sk-parallel {display: flex;align-items: stretch;justify-content: center;background-color: white;position: relative;}#sk-container-id-1 div.sk-item::before, #sk-container-id-1 div.sk-parallel-item::before {content: \"\";position: absolute;border-left: 1px solid gray;box-sizing: border-box;top: 0;bottom: 0;left: 50%;z-index: -1;}#sk-container-id-1 div.sk-parallel-item {display: flex;flex-direction: column;z-index: 1;position: relative;background-color: white;}#sk-container-id-1 div.sk-parallel-item:first-child::after {align-self: flex-end;width: 50%;}#sk-container-id-1 div.sk-parallel-item:last-child::after {align-self: flex-start;width: 50%;}#sk-container-id-1 div.sk-parallel-item:only-child::after {width: 0;}#sk-container-id-1 div.sk-dashed-wrapped {border: 1px dashed gray;margin: 0 0.4em 0.5em 0.4em;box-sizing: border-box;padding-bottom: 0.4em;background-color: white;}#sk-container-id-1 div.sk-label label {font-family: monospace;font-weight: bold;display: inline-block;line-height: 1.2em;}#sk-container-id-1 div.sk-label-container {text-align: center;}#sk-container-id-1 div.sk-container {/* jupyter's `normalize.less` sets `[hidden] { display: none; }` but bootstrap.min.css set `[hidden] { display: none !important; }` so we also need the `!important` here to be able to override the default hidden behavior on the sphinx rendered scikit-learn.org. See: https://github.com/scikit-learn/scikit-learn/issues/21755 */display: inline-block !important;position: relative;}#sk-container-id-1 div.sk-text-repr-fallback {display: none;}</style><div id=\"sk-container-id-1\" class=\"sk-top-container\"><div class=\"sk-text-repr-fallback\"><pre>GridSearchCV(cv=4,\n",
       "             estimator=Pipeline(steps=[(&#x27;scale&#x27;, RobustScaler()),\n",
       "                                       (&#x27;sfs&#x27;,\n",
       "                                        SequentialFeatureSelector(cv=4,\n",
       "                                                                  estimator=KNeighborsClassifier(),\n",
       "                                                                  n_features_to_select=&#x27;auto&#x27;,\n",
       "                                                                  n_jobs=-1,\n",
       "                                                                  scoring=make_scorer(cohen_kappa_score))),\n",
       "                                       (&#x27;knn2&#x27;, KNeighborsClassifier())]),\n",
       "             n_jobs=-1,\n",
       "             param_grid={&#x27;knn2__n_neighbors&#x27;: array([3, 6, 9]),\n",
       "                         &#x27;sfs__estimator__n_neighbors&#x27;: array([3, 6, 9])},\n",
       "             scoring=make_scorer(cohen_kappa_score), verbose=1)</pre><b>In a Jupyter environment, please rerun this cell to show the HTML representation or trust the notebook. <br />On GitHub, the HTML representation is unable to render, please try loading this page with nbviewer.org.</b></div><div class=\"sk-container\" hidden><div class=\"sk-item sk-dashed-wrapped\"><div class=\"sk-label-container\"><div class=\"sk-label sk-toggleable\"><input class=\"sk-toggleable__control sk-hidden--visually\" id=\"sk-estimator-id-1\" type=\"checkbox\" ><label for=\"sk-estimator-id-1\" class=\"sk-toggleable__label sk-toggleable__label-arrow\">GridSearchCV</label><div class=\"sk-toggleable__content\"><pre>GridSearchCV(cv=4,\n",
       "             estimator=Pipeline(steps=[(&#x27;scale&#x27;, RobustScaler()),\n",
       "                                       (&#x27;sfs&#x27;,\n",
       "                                        SequentialFeatureSelector(cv=4,\n",
       "                                                                  estimator=KNeighborsClassifier(),\n",
       "                                                                  n_features_to_select=&#x27;auto&#x27;,\n",
       "                                                                  n_jobs=-1,\n",
       "                                                                  scoring=make_scorer(cohen_kappa_score))),\n",
       "                                       (&#x27;knn2&#x27;, KNeighborsClassifier())]),\n",
       "             n_jobs=-1,\n",
       "             param_grid={&#x27;knn2__n_neighbors&#x27;: array([3, 6, 9]),\n",
       "                         &#x27;sfs__estimator__n_neighbors&#x27;: array([3, 6, 9])},\n",
       "             scoring=make_scorer(cohen_kappa_score), verbose=1)</pre></div></div></div><div class=\"sk-parallel\"><div class=\"sk-parallel-item\"><div class=\"sk-item\"><div class=\"sk-label-container\"><div class=\"sk-label sk-toggleable\"><input class=\"sk-toggleable__control sk-hidden--visually\" id=\"sk-estimator-id-2\" type=\"checkbox\" ><label for=\"sk-estimator-id-2\" class=\"sk-toggleable__label sk-toggleable__label-arrow\">estimator: Pipeline</label><div class=\"sk-toggleable__content\"><pre>Pipeline(steps=[(&#x27;scale&#x27;, RobustScaler()),\n",
       "                (&#x27;sfs&#x27;,\n",
       "                 SequentialFeatureSelector(cv=4,\n",
       "                                           estimator=KNeighborsClassifier(),\n",
       "                                           n_features_to_select=&#x27;auto&#x27;,\n",
       "                                           n_jobs=-1,\n",
       "                                           scoring=make_scorer(cohen_kappa_score))),\n",
       "                (&#x27;knn2&#x27;, KNeighborsClassifier())])</pre></div></div></div><div class=\"sk-serial\"><div class=\"sk-item\"><div class=\"sk-serial\"><div class=\"sk-item\"><div class=\"sk-estimator sk-toggleable\"><input class=\"sk-toggleable__control sk-hidden--visually\" id=\"sk-estimator-id-3\" type=\"checkbox\" ><label for=\"sk-estimator-id-3\" class=\"sk-toggleable__label sk-toggleable__label-arrow\">RobustScaler</label><div class=\"sk-toggleable__content\"><pre>RobustScaler()</pre></div></div></div><div class=\"sk-item sk-dashed-wrapped\"><div class=\"sk-label-container\"><div class=\"sk-label sk-toggleable\"><input class=\"sk-toggleable__control sk-hidden--visually\" id=\"sk-estimator-id-4\" type=\"checkbox\" ><label for=\"sk-estimator-id-4\" class=\"sk-toggleable__label sk-toggleable__label-arrow\">sfs: SequentialFeatureSelector</label><div class=\"sk-toggleable__content\"><pre>SequentialFeatureSelector(cv=4, estimator=KNeighborsClassifier(),\n",
       "                          n_features_to_select=&#x27;auto&#x27;, n_jobs=-1,\n",
       "                          scoring=make_scorer(cohen_kappa_score))</pre></div></div></div><div class=\"sk-parallel\"><div class=\"sk-parallel-item\"><div class=\"sk-item\"><div class=\"sk-label-container\"><div class=\"sk-label sk-toggleable\"><input class=\"sk-toggleable__control sk-hidden--visually\" id=\"sk-estimator-id-5\" type=\"checkbox\" ><label for=\"sk-estimator-id-5\" class=\"sk-toggleable__label sk-toggleable__label-arrow\">estimator: KNeighborsClassifier</label><div class=\"sk-toggleable__content\"><pre>KNeighborsClassifier()</pre></div></div></div><div class=\"sk-serial\"><div class=\"sk-item\"><div class=\"sk-estimator sk-toggleable\"><input class=\"sk-toggleable__control sk-hidden--visually\" id=\"sk-estimator-id-6\" type=\"checkbox\" ><label for=\"sk-estimator-id-6\" class=\"sk-toggleable__label sk-toggleable__label-arrow\">KNeighborsClassifier</label><div class=\"sk-toggleable__content\"><pre>KNeighborsClassifier()</pre></div></div></div></div></div></div></div></div><div class=\"sk-item\"><div class=\"sk-estimator sk-toggleable\"><input class=\"sk-toggleable__control sk-hidden--visually\" id=\"sk-estimator-id-7\" type=\"checkbox\" ><label for=\"sk-estimator-id-7\" class=\"sk-toggleable__label sk-toggleable__label-arrow\">KNeighborsClassifier</label><div class=\"sk-toggleable__content\"><pre>KNeighborsClassifier()</pre></div></div></div></div></div></div></div></div></div></div></div></div>"
      ],
      "text/plain": [
       "GridSearchCV(cv=4,\n",
       "             estimator=Pipeline(steps=[('scale', RobustScaler()),\n",
       "                                       ('sfs',\n",
       "                                        SequentialFeatureSelector(cv=4,\n",
       "                                                                  estimator=KNeighborsClassifier(),\n",
       "                                                                  n_features_to_select='auto',\n",
       "                                                                  n_jobs=-1,\n",
       "                                                                  scoring=make_scorer(cohen_kappa_score))),\n",
       "                                       ('knn2', KNeighborsClassifier())]),\n",
       "             n_jobs=-1,\n",
       "             param_grid={'knn2__n_neighbors': array([3, 6, 9]),\n",
       "                         'sfs__estimator__n_neighbors': array([3, 6, 9])},\n",
       "             scoring=make_scorer(cohen_kappa_score), verbose=1)"
      ]
     },
     "execution_count": 5,
     "metadata": {},
     "output_type": "execute_result"
    }
   ],
   "source": [
    "\n",
    "knn_SFS = SequentialFeatureSelector(estimator = KNeighborsClassifier(),\n",
    "n_features_to_select = 'auto',\n",
    "direction = 'forward',\n",
    "scoring = make_scorer(cohen_kappa_score),\n",
    "cv = k_fold,\n",
    "n_jobs = -1)\n",
    "\n",
    "pipe = Pipeline(steps=[\n",
    "                 ('scale', RobustScaler()),\n",
    "                 ('sfs', knn_SFS), # inner knn\n",
    "                 ('knn2', KNeighborsClassifier()) # outer knn\n",
    "                 ])\n",
    "\n",
    "param_grid = {\n",
    "    'sfs__estimator__n_neighbors': np.arange(3, 10, 3), # inner knn\n",
    "    'knn2__n_neighbors': np.arange(3, 10, 3) # outer knn\n",
    " }\n",
    "\n",
    "knn_model = GridSearchCV(estimator = pipe,\n",
    "                  param_grid = param_grid,\n",
    "                  scoring = make_scorer(cohen_kappa_score),\n",
    "                  n_jobs = -1,\n",
    "                  cv = k_fold,\n",
    "                  refit = True,\n",
    "                  verbose = 1)\n",
    "\n",
    "knn_model.fit(X_train, y_train)"
   ]
  },
  {
   "cell_type": "code",
   "execution_count": 6,
   "metadata": {},
   "outputs": [],
   "source": [
    "selected = knn_model.best_estimator_.named_steps[\"sfs\"].get_support(indices=True) \n",
    "\n",
    "X_train_new, X_test_new,  y_train_new, y_test_new = X_train.iloc[:, selected], X_test.iloc[:, selected],  y_train * 1, y_test * 1\n"
   ]
  },
  {
   "cell_type": "markdown",
   "metadata": {},
   "source": [
    "### Model final"
   ]
  },
  {
   "cell_type": "code",
   "execution_count": 7,
   "metadata": {},
   "outputs": [],
   "source": [
    "pipe_final_knn = Pipeline(steps=[\n",
    "                 ('scale', RobustScaler()),\n",
    "                 ('knn', KNeighborsClassifier())\n",
    "                 ])\n",
    "\n",
    "best_paramsKNN = {'knn__n_neighbors': knn_model.best_params_['knn2__n_neighbors'] }\n",
    "\n",
    "pipe_final_knn.set_params(**best_paramsKNN)\n",
    "pipe_final_knn.fit(X_train_new, y_train_new)\n",
    "\n",
    "predictions_train = pipe_final_knn.predict(X_train_new)\n",
    "predictions_test = pipe_final_knn.predict(X_test_new)\n",
    "\n",
    "metrics_knn = {'Model_train': cohen_kappa_score(predictions_train, y_train_new), 'Model_test':cohen_kappa_score(predictions_test, y_test_new)}\n"
   ]
  },
  {
   "cell_type": "code",
   "execution_count": 12,
   "metadata": {},
   "outputs": [
    {
     "name": "stdout",
     "output_type": "stream",
     "text": [
      "              precision    recall  f1-score   support\n",
      "\n",
      "           0       1.00      1.00      1.00        45\n",
      "           1       1.00      1.00      1.00        45\n",
      "\n",
      "    accuracy                           1.00        90\n",
      "   macro avg       1.00      1.00      1.00        90\n",
      "weighted avg       1.00      1.00      1.00        90\n",
      "\n",
      "              precision    recall  f1-score   support\n",
      "\n",
      "           0       1.00      1.00      1.00         5\n",
      "           1       1.00      1.00      1.00         5\n",
      "\n",
      "    accuracy                           1.00        10\n",
      "   macro avg       1.00      1.00      1.00        10\n",
      "weighted avg       1.00      1.00      1.00        10\n",
      "\n"
     ]
    }
   ],
   "source": [
    "print(classification_report(y_train, predictions_train))\n",
    "\n",
    "print(classification_report(y_test, predictions_test))"
   ]
  },
  {
   "cell_type": "markdown",
   "metadata": {},
   "source": [
    "### Save the results in csv "
   ]
  },
  {
   "cell_type": "code",
   "execution_count": 13,
   "metadata": {},
   "outputs": [],
   "source": [
    "selected_keys = list(knn_model.cv_results_.keys())[list(knn_model.cv_results_.keys()).index('params'):]\n",
    "df = pd.DataFrame({key: knn_model.cv_results_[key] for key in selected_keys if key in knn_model.cv_results_})\n",
    "df_params = pd.json_normalize(df['params'])\n",
    "df_combined = pd.concat([df.drop(columns=['params']), df_params], axis=1)\n",
    "\n",
    "data_dict = {\n",
    "    'Sheet1': df_combined,\n",
    "    'Sheet2': {\n",
    "        'best_params': knn_model.best_params_,\n",
    "        'best_score': knn_model.best_score_,\n",
    "        'best_params_final': best_paramsKNN,\n",
    "        'selected_columns': np.array(X_train.columns)[selected],\n",
    "        'model_train': metrics_knn\n",
    "    }\n",
    "}\n",
    "\n",
    "with pd.ExcelWriter('Result_Knn_CV_Final.xlsx') as writer:\n",
    "    for sheet_name, data in data_dict.items():\n",
    "        if isinstance(data, pd.DataFrame):\n",
    "            data.to_excel(writer, sheet_name=sheet_name)\n",
    "        else:\n",
    "            pd.DataFrame([data]).to_excel(writer, sheet_name=sheet_name, index=False, header=False)\n"
   ]
  },
  {
   "cell_type": "code",
   "execution_count": 9,
   "metadata": {},
   "outputs": [],
   "source": [
    "# print(knn_model.best_estimator_.named_steps['knn2'].n_neighbors)\n",
    "# print(knn_model.best_estimator_.named_steps['knn2'].effective_metric_params_)\n",
    "# print(knn_model.best_estimator_.named_steps['knn2'].effective_metric_)\n",
    "# print(knn_model.best_estimator_.named_steps['knn2'].n_features_in_)\n",
    "# print(knn_model.best_estimator_.named_steps['knn2'].n_samples_fit_)\n",
    "\n",
    "# print(knn_model.best_estimator_.named_steps['sfs'].scoring)\n",
    "# print(knn_model.best_estimator_.named_steps['sfs'].get_params() )\n",
    "# print(knn_model.best_estimator_.named_steps['sfs'].get_feature_names_out() )\n",
    "# print(knn_model.best_estimator_.named_steps['sfs'].support_)\n",
    "# ## print(knn_model.best_estimator_.named_steps['sfs'].feature_names_in_)\n"
   ]
  }
 ],
 "metadata": {
  "kernelspec": {
   "display_name": "vs-code",
   "language": "python",
   "name": "python3"
  },
  "language_info": {
   "codemirror_mode": {
    "name": "ipython",
    "version": 3
   },
   "file_extension": ".py",
   "mimetype": "text/x-python",
   "name": "python",
   "nbconvert_exporter": "python",
   "pygments_lexer": "ipython3",
   "version": "3.10.9"
  }
 },
 "nbformat": 4,
 "nbformat_minor": 2
}
